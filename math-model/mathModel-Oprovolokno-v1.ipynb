{
 "cells": [
  {
   "cell_type": "code",
   "execution_count": 1,
   "id": "9f57abf9",
   "metadata": {},
   "outputs": [],
   "source": [
    "#Импортируем библиотеки\n",
    "import math as m\n",
    "import numpy as np\n",
    "import matplotlib.pyplot as plt\n",
    "from scipy import optimize\n",
    "import warnings\n",
    "warnings.filterwarnings(\"ignore\")\n",
    "\n",
    "#Задаём функцию для аппроксимации\n",
    "def mapping(x, a, b): \n",
    "    return a*x+b"
   ]
  },
  {
   "cell_type": "code",
   "execution_count": 2,
   "id": "1b753f27",
   "metadata": {},
   "outputs": [
    {
     "name": "stdout",
     "output_type": "stream",
     "text": [
      "Requirement already satisfied: vtk in c:\\users\\user\\jupiter anaconda3\\lib\\site-packages (9.2.6)\n",
      "Requirement already satisfied: matplotlib>=2.0.0 in c:\\users\\user\\jupiter anaconda3\\lib\\site-packages (from vtk) (3.4.3)\n",
      "Requirement already satisfied: cycler>=0.10 in c:\\users\\user\\jupiter anaconda3\\lib\\site-packages (from matplotlib>=2.0.0->vtk) (0.10.0)\n",
      "Requirement already satisfied: pyparsing>=2.2.1 in c:\\users\\user\\jupiter anaconda3\\lib\\site-packages (from matplotlib>=2.0.0->vtk) (3.0.4)\n",
      "Requirement already satisfied: kiwisolver>=1.0.1 in c:\\users\\user\\jupiter anaconda3\\lib\\site-packages (from matplotlib>=2.0.0->vtk) (1.3.1)\n",
      "Requirement already satisfied: numpy>=1.16 in c:\\users\\user\\jupiter anaconda3\\lib\\site-packages (from matplotlib>=2.0.0->vtk) (1.20.3)\n",
      "Requirement already satisfied: pillow>=6.2.0 in c:\\users\\user\\jupiter anaconda3\\lib\\site-packages (from matplotlib>=2.0.0->vtk) (8.4.0)\n",
      "Requirement already satisfied: python-dateutil>=2.7 in c:\\users\\user\\jupiter anaconda3\\lib\\site-packages (from matplotlib>=2.0.0->vtk) (2.8.2)\n",
      "Requirement already satisfied: six in c:\\users\\user\\jupiter anaconda3\\lib\\site-packages (from cycler>=0.10->matplotlib>=2.0.0->vtk) (1.16.0)\n"
     ]
    }
   ],
   "source": [
    "!pip install vtk\n",
    "import vtk"
   ]
  },
  {
   "cell_type": "code",
   "execution_count": 23,
   "id": "a8fde4d3",
   "metadata": {},
   "outputs": [
    {
     "name": "stdout",
     "output_type": "stream",
     "text": [
      "all right\n"
     ]
    }
   ],
   "source": [
    "#Код для моделирования погонного затухания\n",
    "# Класс расчётной сетки\n",
    "class CalcMesh:\n",
    "\n",
    "    # Конструктор сетки size x size точек с шагом h по пространству\n",
    "    def __init__(self, size, step):\n",
    "        # 2D-сетка из расчётных точек, у каждой из которых, тем не менее, 3 координаты\n",
    "        self.nodes = np.mgrid[0:size-1:np.complex128(size), 0:0.5:np.complex128(size)]\n",
    "        a = np.zeros((size,size))\n",
    "        self.nodes *= step\n",
    "        self.nodes = np.append(self.nodes, [np.zeros(shape=(size, size), dtype=np.double)], 0)\n",
    "\n",
    "        # Модельная скалярная величина распределена как-то вот так\n",
    "        self.smth = a\n",
    "\n",
    "        # Профиль скорости взят какой-нибудь с потолка, есть только компонента по Z\n",
    "        self.velocity = np.zeros(shape=(3, size, size), dtype=np.double)\n",
    "        self.velocity[2] = np.power(self.nodes[0] - self.nodes[1], 2)\n",
    "\n",
    "    # Метод отвечает за выполнение для всей сетки шага по времени величиной tau\n",
    "    def move(self, tau, ru):\n",
    "        # По сути метод просто двигает все точки c их текущими скоростями\n",
    "        self.smth[ru] = 100 + self.smth[ru]- tau*ru\n",
    "            \n",
    "\n",
    "    # Метод отвечает за запись текущего состояния сетки в снапшот в формате VTK\n",
    "    def snapshot(self, snap_number):\n",
    "        # Сетка в терминах VTK\n",
    "        structuredGrid = vtk.vtkStructuredGrid()\n",
    "        # Точки сетки в терминах VTK\n",
    "        points = vtk.vtkPoints()\n",
    "\n",
    "        # Скалярное поле на точках сетки\n",
    "        smth = vtk.vtkDoubleArray()\n",
    "        smth.SetName(\"smth\")\n",
    "\n",
    "        # Векторное поле на точках сетки\n",
    "        vel = vtk.vtkDoubleArray()\n",
    "        vel.SetNumberOfComponents(3)\n",
    "        vel.SetName(\"vel\")\n",
    "\n",
    "        # Обходим все точки нашей расчётной сетки\n",
    "        # Делаем это максимально неэффективным, зато наглядным образом\n",
    "        number = len(self.nodes[0])\n",
    "        for i in range(0, number):\n",
    "            for j in range(0, number):\n",
    "                # Вставляем новую точку в сетку VTK-снапшота\n",
    "                points.InsertNextPoint(self.nodes[0][i,j], self.nodes[1][i,j], self.nodes[2][i,j])\n",
    "                # Добавляем значение скалярного поля в этой точке\n",
    "                smth.InsertNextValue(self.smth[i,j])\n",
    "                # Добавляем значение векторного поля в этой точке\n",
    "                vel.InsertNextTuple((self.velocity[0][i,j], self.velocity[1][i,j], self.velocity[2][i,j]))\n",
    "\n",
    "        # Задаём размеры VTK-сетки (в точках, по трём осям)\n",
    "        structuredGrid.SetDimensions(number, number, 1)\n",
    "        # Грузим точки в сетку\n",
    "        structuredGrid.SetPoints(points)\n",
    "\n",
    "        # Присоединяем векторное и скалярное поля к точкам\n",
    "        structuredGrid.GetPointData().AddArray(smth)\n",
    "        structuredGrid.GetPointData().AddArray(vel)\n",
    "\n",
    "        # Создаём снапшот в файле с заданным именем\n",
    "        writer = vtk.vtkXMLStructuredGridWriter()\n",
    "        writer.SetInputDataObject(structuredGrid)\n",
    "        writer.SetFileName(\"pogonoeZatuhanie2-\" + str(snap_number) + \".vts\")\n",
    "        writer.Write()\n",
    "    \n",
    "        \n",
    "print(\"all right\")"
   ]
  },
  {
   "cell_type": "code",
   "execution_count": 24,
   "id": "7a9769a2",
   "metadata": {},
   "outputs": [
    {
     "name": "stdout",
     "output_type": "stream",
     "text": [
      "Введите длину оптоволокна [км]: 20\n",
      "Выберете рабочую длину волны [1310 // 1550 нм] : 1550\n",
      "Выберете тип волокна [SMF // PSCF]: PSCF\n",
      "Ready\n",
      "Запустите в Para View файл pogonoeZatuhanie2.vts\n"
     ]
    }
   ],
   "source": [
    "# Размер расчётной сетки, длина оптоволокна\n",
    "flag = 1\n",
    "size = int(input(\"Введите длину оптоволокна [км]: \"))\n",
    "l = int(input(\"Выберете рабочую длину волны [1310 // 1550 нм] : \"))\n",
    "# Шаг точек по пространству\n",
    "h = 1\n",
    "# Тип волокна\n",
    "t = str(input(\"Выберете тип волокна [SMF // PSCF]: \"))\n",
    "# Определение погонного затухания\n",
    "\n",
    "if l == 1310:\n",
    "    if t == \"SMF\":\n",
    "        tau = 0.33\n",
    "    elif t == \"PSCF\":\n",
    "        tau = 0.3\n",
    "    else:\n",
    "        print(\"Простите мы ещё не умеем моделировать данный тип волокна /n Введите один из предложенных типов: SMF или PSCF\")\n",
    "elif l == 1550:\n",
    "    if t == \"SMF\":\n",
    "        tau = 0.2\n",
    "    elif t == \"PSCF\":\n",
    "        tau = 0.15\n",
    "    else:\n",
    "        print(\"Простите мы ещё не умеем моделировать данный тип волокна \\n Введите один из предложенных типов: SMF или PSCF\")\n",
    "        flag = 0\n",
    "\n",
    "else:\n",
    "    print(\"Простите мы ещё не умеем моделировать оптоволокно на данной длине волны \\n Введите один из предложенных типов: 1310 или 1550 нм\")\n",
    "    flag = 0\n",
    "\n",
    "\n",
    "if flag == 1:\n",
    "    ru = 0\n",
    "    # Создаём сетку заданного размера\n",
    "    m = CalcMesh(size, h)\n",
    "    # Пишем её начальное состояние в VTK\n",
    "    m.snapshot(0)\n",
    "    # Делаем шаги по времени,\n",
    "    # на каждом шаге считаем новое состояние и пишем его в VTK\n",
    "    for i in range(1, size+1):\n",
    "        m.move(tau, ru)\n",
    "        m.snapshot(i)\n",
    "        ru += 1\n",
    "\n",
    "    print(\"Ready\")\n",
    "    print(\"Запустите в Para View файл pogonoeZatuhanie2.vts\")\n",
    "    \n",
    "    \n",
    "#Проблема: ParaView запоминает максимальное число сцен, поэтому файл лучше всегда переименовывать для точности расчёта!"
   ]
  },
  {
   "cell_type": "code",
   "execution_count": null,
   "id": "bb0e26bd",
   "metadata": {},
   "outputs": [],
   "source": []
  },
  {
   "cell_type": "code",
   "execution_count": 101,
   "id": "c998778e",
   "metadata": {},
   "outputs": [],
   "source": []
  },
  {
   "cell_type": "code",
   "execution_count": null,
   "id": "b4bba3c3",
   "metadata": {},
   "outputs": [],
   "source": []
  }
 ],
 "metadata": {
  "kernelspec": {
   "display_name": "Python 3 (ipykernel)",
   "language": "python",
   "name": "python3"
  },
  "language_info": {
   "codemirror_mode": {
    "name": "ipython",
    "version": 3
   },
   "file_extension": ".py",
   "mimetype": "text/x-python",
   "name": "python",
   "nbconvert_exporter": "python",
   "pygments_lexer": "ipython3",
   "version": "3.9.7"
  }
 },
 "nbformat": 4,
 "nbformat_minor": 5
}
